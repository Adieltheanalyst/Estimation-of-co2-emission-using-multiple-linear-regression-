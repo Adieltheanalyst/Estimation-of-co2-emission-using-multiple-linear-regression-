{
 "cells": [
  {
   "cell_type": "code",
   "execution_count": 9,
   "id": "2a4b0e89-87ee-497c-ab43-af04d95606c0",
   "metadata": {},
   "outputs": [],
   "source": [
    "import pandas as pd\n",
    "import numpy as np\n",
    "import matplotlib.pyplot as plt\n",
    "plt.rc(\"font\", size=10)\n",
    "import seaborn as sns\n",
    "%matplotlib inline"
   ]
  },
  {
   "cell_type": "code",
   "execution_count": 11,
   "id": "477fa215-7e36-4267-868a-de7f9be085de",
   "metadata": {},
   "outputs": [
    {
     "data": {
      "text/html": [
       "<div>\n",
       "<style scoped>\n",
       "    .dataframe tbody tr th:only-of-type {\n",
       "        vertical-align: middle;\n",
       "    }\n",
       "\n",
       "    .dataframe tbody tr th {\n",
       "        vertical-align: top;\n",
       "    }\n",
       "\n",
       "    .dataframe thead th {\n",
       "        text-align: right;\n",
       "    }\n",
       "</style>\n",
       "<table border=\"1\" class=\"dataframe\">\n",
       "  <thead>\n",
       "    <tr style=\"text-align: right;\">\n",
       "      <th></th>\n",
       "      <th>MAKE</th>\n",
       "      <th>MODEL</th>\n",
       "      <th>VEHICLECLASS</th>\n",
       "      <th>ENGINESIZE</th>\n",
       "      <th>CYLINDERS</th>\n",
       "      <th>TRANSMISSION</th>\n",
       "      <th>FUELTYPE</th>\n",
       "      <th>FUELCONSUMPTION_CITY</th>\n",
       "      <th>FUELCONSUMPTION_HWY</th>\n",
       "      <th>FUELCONSUMPTION_COMB</th>\n",
       "      <th>FUELCONSUMPTION_COMB_MPG</th>\n",
       "      <th>CO2EMISSIONS</th>\n",
       "    </tr>\n",
       "    <tr>\n",
       "      <th>MODELYEAR</th>\n",
       "      <th></th>\n",
       "      <th></th>\n",
       "      <th></th>\n",
       "      <th></th>\n",
       "      <th></th>\n",
       "      <th></th>\n",
       "      <th></th>\n",
       "      <th></th>\n",
       "      <th></th>\n",
       "      <th></th>\n",
       "      <th></th>\n",
       "      <th></th>\n",
       "    </tr>\n",
       "  </thead>\n",
       "  <tbody>\n",
       "    <tr>\n",
       "      <th>2014</th>\n",
       "      <td>ACURA</td>\n",
       "      <td>ILX</td>\n",
       "      <td>COMPACT</td>\n",
       "      <td>2.0</td>\n",
       "      <td>4</td>\n",
       "      <td>AS5</td>\n",
       "      <td>Z</td>\n",
       "      <td>9.9</td>\n",
       "      <td>6.7</td>\n",
       "      <td>8.5</td>\n",
       "      <td>33</td>\n",
       "      <td>196</td>\n",
       "    </tr>\n",
       "    <tr>\n",
       "      <th>2014</th>\n",
       "      <td>ACURA</td>\n",
       "      <td>ILX</td>\n",
       "      <td>COMPACT</td>\n",
       "      <td>2.4</td>\n",
       "      <td>4</td>\n",
       "      <td>M6</td>\n",
       "      <td>Z</td>\n",
       "      <td>11.2</td>\n",
       "      <td>7.7</td>\n",
       "      <td>9.6</td>\n",
       "      <td>29</td>\n",
       "      <td>221</td>\n",
       "    </tr>\n",
       "    <tr>\n",
       "      <th>2014</th>\n",
       "      <td>ACURA</td>\n",
       "      <td>ILX HYBRID</td>\n",
       "      <td>COMPACT</td>\n",
       "      <td>1.5</td>\n",
       "      <td>4</td>\n",
       "      <td>AV7</td>\n",
       "      <td>Z</td>\n",
       "      <td>6.0</td>\n",
       "      <td>5.8</td>\n",
       "      <td>5.9</td>\n",
       "      <td>48</td>\n",
       "      <td>136</td>\n",
       "    </tr>\n",
       "    <tr>\n",
       "      <th>2014</th>\n",
       "      <td>ACURA</td>\n",
       "      <td>MDX 4WD</td>\n",
       "      <td>SUV - SMALL</td>\n",
       "      <td>3.5</td>\n",
       "      <td>6</td>\n",
       "      <td>AS6</td>\n",
       "      <td>Z</td>\n",
       "      <td>12.7</td>\n",
       "      <td>9.1</td>\n",
       "      <td>11.1</td>\n",
       "      <td>25</td>\n",
       "      <td>255</td>\n",
       "    </tr>\n",
       "    <tr>\n",
       "      <th>2014</th>\n",
       "      <td>ACURA</td>\n",
       "      <td>RDX AWD</td>\n",
       "      <td>SUV - SMALL</td>\n",
       "      <td>3.5</td>\n",
       "      <td>6</td>\n",
       "      <td>AS6</td>\n",
       "      <td>Z</td>\n",
       "      <td>12.1</td>\n",
       "      <td>8.7</td>\n",
       "      <td>10.6</td>\n",
       "      <td>27</td>\n",
       "      <td>244</td>\n",
       "    </tr>\n",
       "  </tbody>\n",
       "</table>\n",
       "</div>"
      ],
      "text/plain": [
       "            MAKE       MODEL VEHICLECLASS  ENGINESIZE  CYLINDERS TRANSMISSION  \\\n",
       "MODELYEAR                                                                       \n",
       "2014       ACURA         ILX      COMPACT         2.0          4          AS5   \n",
       "2014       ACURA         ILX      COMPACT         2.4          4           M6   \n",
       "2014       ACURA  ILX HYBRID      COMPACT         1.5          4          AV7   \n",
       "2014       ACURA     MDX 4WD  SUV - SMALL         3.5          6          AS6   \n",
       "2014       ACURA     RDX AWD  SUV - SMALL         3.5          6          AS6   \n",
       "\n",
       "          FUELTYPE  FUELCONSUMPTION_CITY  FUELCONSUMPTION_HWY  \\\n",
       "MODELYEAR                                                       \n",
       "2014             Z                   9.9                  6.7   \n",
       "2014             Z                  11.2                  7.7   \n",
       "2014             Z                   6.0                  5.8   \n",
       "2014             Z                  12.7                  9.1   \n",
       "2014             Z                  12.1                  8.7   \n",
       "\n",
       "           FUELCONSUMPTION_COMB  FUELCONSUMPTION_COMB_MPG  CO2EMISSIONS  \n",
       "MODELYEAR                                                                \n",
       "2014                        8.5                        33           196  \n",
       "2014                        9.6                        29           221  \n",
       "2014                        5.9                        48           136  \n",
       "2014                       11.1                        25           255  \n",
       "2014                       10.6                        27           244  "
      ]
     },
     "execution_count": 11,
     "metadata": {},
     "output_type": "execute_result"
    }
   ],
   "source": [
    "df=pd.read_csv(r\"FuelConsumptionCo2.csv\")\n",
    "df=df.set_index(\"MODELYEAR\")\n",
    "df.head()"
   ]
  },
  {
   "cell_type": "code",
   "execution_count": 12,
   "id": "a3985d24-34c0-4f0f-abe5-65ef441b09a4",
   "metadata": {},
   "outputs": [
    {
     "data": {
      "text/plain": [
       "<Axes: xlabel='TRANSMISSION'>"
      ]
     },
     "execution_count": 12,
     "metadata": {},
     "output_type": "execute_result"
    },
    {
     "data": {
      "image/png": "[encoded data removed]",
      "text/plain": [
       "<Figure size 640x480 with 1 Axes>"
      ]
     },
     "metadata": {},
     "output_type": "display_data"
    }
   ],
   "source": [
    "# plt.bar(x=df[\"VEHICLECLASS\"],y=df[\"CO2EMISSIONS\"])\n",
    "pd.crosstab(df[\"TRANSMISSION\"],df[\"CO2EMISSIONS\"]).plot(kind=\"bar\",legend=False)"
   ]
  },
  {
   "cell_type": "markdown",
   "id": "56764ed6-f574-4ae0-80a9-3ad6bcbeebd2",
   "metadata": {},
   "source": [
    "Cars with the transmission As6 find tend to emit more CO2 than any other transmission which is widely used by the ford company"
   ]
  },
  {
   "cell_type": "code",
   "execution_count": 13,
   "id": "306ca38e-890e-4ed2-ad2f-f36b641caf00",
   "metadata": {},
   "outputs": [
    {
     "data": {
      "text/plain": [
       "<Axes: xlabel='MAKE'>"
      ]
     },
     "execution_count": 13,
     "metadata": {},
     "output_type": "execute_result"
    },
    {
     "data": {
      "image/png": "[encoded data removed]",
      "text/plain": [
       "<Figure size 640x480 with 1 Axes>"
      ]
     },
     "metadata": {},
     "output_type": "display_data"
    }
   ],
   "source": [
    "df_as6=df[df['TRANSMISSION']==\"AS6\"]\n",
    "make_count=df_as6[\"MAKE\"].value_counts()\n",
    "make_count.plot(kind='bar')\n",
    "# plt.plot(df[\"MAKE\"],df[\"TRANSMISSION\"==\"AS6\"])"
   ]
  },
  {
   "cell_type": "code",
   "execution_count": 14,
   "id": "17e348e8-c028-4b4d-a308-1a11e3771676",
   "metadata": {},
   "outputs": [
    {
     "data": {
      "text/plain": [
       "<Axes: xlabel='FUELTYPE'>"
      ]
     },
     "execution_count": 14,
     "metadata": {},
     "output_type": "execute_result"
    },
    {
     "data": {
      "image/png": "[encoded data removed]",
      "text/plain": [
       "<Figure size 640x480 with 1 Axes>"
      ]
     },
     "metadata": {},
     "output_type": "display_data"
    }
   ],
   "source": [
    "pd.crosstab(df[\"FUELTYPE\"],df[\"CO2EMISSIONS\"]).plot(kind=\"bar\",legend=False)"
   ]
  },
  {
   "cell_type": "code",
   "execution_count": 15,
   "id": "a9e66d29-fa55-404a-af92-b34e1a331d4e",
   "metadata": {},
   "outputs": [],
   "source": [
    "df[\"VEHICLECLASS\"]=df[\"VEHICLECLASS\"].astype(\"category\")\n",
    "df[\"VEHICLECLASS\"]=df[\"VEHICLECLASS\"].cat.codes\n",
    "\n",
    "df[\"MAKE\"]=df[\"MAKE\"].astype(\"category\")\n",
    "df[\"MAKE\"]=df[\"MAKE\"].cat.codes\n",
    "\n",
    "df[\"TRANSMISSION\"]=df[\"TRANSMISSION\"].astype(\"category\")\n",
    "df[\"TRANSMISSION\"]=df[\"TRANSMISSION\"].cat.codes\n",
    "\n",
    "df[\"FUELTYPE\"]=df[\"FUELTYPE\"].astype(\"category\")\n",
    "df[\"FUELTYPE\"]=df[\"FUELTYPE\"].cat.codes\n",
    "\n",
    "df=df.drop(columns=[\"MODEL\"])\n"
   ]
  },
  {
   "cell_type": "code",
   "execution_count": 16,
   "id": "a48d6c7e-53d5-4366-a227-e4ce03de5b4b",
   "metadata": {},
   "outputs": [
    {
     "data": {
      "text/html": [
       "<div>\n",
       "<style scoped>\n",
       "    .dataframe tbody tr th:only-of-type {\n",
       "        vertical-align: middle;\n",
       "    }\n",
       "\n",
       "    .dataframe tbody tr th {\n",
       "        vertical-align: top;\n",
       "    }\n",
       "\n",
       "    .dataframe thead th {\n",
       "        text-align: right;\n",
       "    }\n",
       "</style>\n",
       "<table border=\"1\" class=\"dataframe\">\n",
       "  <thead>\n",
       "    <tr style=\"text-align: right;\">\n",
       "      <th></th>\n",
       "      <th>MAKE</th>\n",
       "      <th>VEHICLECLASS</th>\n",
       "      <th>ENGINESIZE</th>\n",
       "      <th>CYLINDERS</th>\n",
       "      <th>TRANSMISSION</th>\n",
       "      <th>FUELTYPE</th>\n",
       "      <th>FUELCONSUMPTION_CITY</th>\n",
       "      <th>FUELCONSUMPTION_HWY</th>\n",
       "      <th>FUELCONSUMPTION_COMB</th>\n",
       "      <th>FUELCONSUMPTION_COMB_MPG</th>\n",
       "      <th>CO2EMISSIONS</th>\n",
       "    </tr>\n",
       "  </thead>\n",
       "  <tbody>\n",
       "    <tr>\n",
       "      <th>MAKE</th>\n",
       "      <td>1.000000</td>\n",
       "      <td>0.005853</td>\n",
       "      <td>-0.166416</td>\n",
       "      <td>-0.203427</td>\n",
       "      <td>0.193264</td>\n",
       "      <td>0.015051</td>\n",
       "      <td>-0.246247</td>\n",
       "      <td>-0.174665</td>\n",
       "      <td>-0.222273</td>\n",
       "      <td>0.226347</td>\n",
       "      <td>-0.186504</td>\n",
       "    </tr>\n",
       "    <tr>\n",
       "      <th>VEHICLECLASS</th>\n",
       "      <td>0.005853</td>\n",
       "      <td>1.000000</td>\n",
       "      <td>0.240529</td>\n",
       "      <td>0.208528</td>\n",
       "      <td>-0.172934</td>\n",
       "      <td>-0.083893</td>\n",
       "      <td>0.354363</td>\n",
       "      <td>0.430074</td>\n",
       "      <td>0.384678</td>\n",
       "      <td>-0.354073</td>\n",
       "      <td>0.388468</td>\n",
       "    </tr>\n",
       "    <tr>\n",
       "      <th>ENGINESIZE</th>\n",
       "      <td>-0.166416</td>\n",
       "      <td>0.240529</td>\n",
       "      <td>1.000000</td>\n",
       "      <td>0.934011</td>\n",
       "      <td>-0.272427</td>\n",
       "      <td>0.060869</td>\n",
       "      <td>0.832225</td>\n",
       "      <td>0.778746</td>\n",
       "      <td>0.819482</td>\n",
       "      <td>-0.808554</td>\n",
       "      <td>0.874154</td>\n",
       "    </tr>\n",
       "    <tr>\n",
       "      <th>CYLINDERS</th>\n",
       "      <td>-0.203427</td>\n",
       "      <td>0.208528</td>\n",
       "      <td>0.934011</td>\n",
       "      <td>1.000000</td>\n",
       "      <td>-0.246456</td>\n",
       "      <td>0.127959</td>\n",
       "      <td>0.796473</td>\n",
       "      <td>0.724594</td>\n",
       "      <td>0.776788</td>\n",
       "      <td>-0.770430</td>\n",
       "      <td>0.849685</td>\n",
       "    </tr>\n",
       "    <tr>\n",
       "      <th>TRANSMISSION</th>\n",
       "      <td>0.193264</td>\n",
       "      <td>-0.172934</td>\n",
       "      <td>-0.272427</td>\n",
       "      <td>-0.246456</td>\n",
       "      <td>1.000000</td>\n",
       "      <td>0.214650</td>\n",
       "      <td>-0.350241</td>\n",
       "      <td>-0.348174</td>\n",
       "      <td>-0.352596</td>\n",
       "      <td>0.341119</td>\n",
       "      <td>-0.299393</td>\n",
       "    </tr>\n",
       "    <tr>\n",
       "      <th>FUELTYPE</th>\n",
       "      <td>0.015051</td>\n",
       "      <td>-0.083893</td>\n",
       "      <td>0.060869</td>\n",
       "      <td>0.127959</td>\n",
       "      <td>0.214650</td>\n",
       "      <td>1.000000</td>\n",
       "      <td>-0.128841</td>\n",
       "      <td>-0.178439</td>\n",
       "      <td>-0.148167</td>\n",
       "      <td>0.007106</td>\n",
       "      <td>0.075167</td>\n",
       "    </tr>\n",
       "    <tr>\n",
       "      <th>FUELCONSUMPTION_CITY</th>\n",
       "      <td>-0.246247</td>\n",
       "      <td>0.354363</td>\n",
       "      <td>0.832225</td>\n",
       "      <td>0.796473</td>\n",
       "      <td>-0.350241</td>\n",
       "      <td>-0.128841</td>\n",
       "      <td>1.000000</td>\n",
       "      <td>0.965718</td>\n",
       "      <td>0.995542</td>\n",
       "      <td>-0.935613</td>\n",
       "      <td>0.898039</td>\n",
       "    </tr>\n",
       "    <tr>\n",
       "      <th>FUELCONSUMPTION_HWY</th>\n",
       "      <td>-0.174665</td>\n",
       "      <td>0.430074</td>\n",
       "      <td>0.778746</td>\n",
       "      <td>0.724594</td>\n",
       "      <td>-0.348174</td>\n",
       "      <td>-0.178439</td>\n",
       "      <td>0.965718</td>\n",
       "      <td>1.000000</td>\n",
       "      <td>0.985804</td>\n",
       "      <td>-0.893809</td>\n",
       "      <td>0.861748</td>\n",
       "    </tr>\n",
       "    <tr>\n",
       "      <th>FUELCONSUMPTION_COMB</th>\n",
       "      <td>-0.222273</td>\n",
       "      <td>0.384678</td>\n",
       "      <td>0.819482</td>\n",
       "      <td>0.776788</td>\n",
       "      <td>-0.352596</td>\n",
       "      <td>-0.148167</td>\n",
       "      <td>0.995542</td>\n",
       "      <td>0.985804</td>\n",
       "      <td>1.000000</td>\n",
       "      <td>-0.927965</td>\n",
       "      <td>0.892129</td>\n",
       "    </tr>\n",
       "    <tr>\n",
       "      <th>FUELCONSUMPTION_COMB_MPG</th>\n",
       "      <td>0.226347</td>\n",
       "      <td>-0.354073</td>\n",
       "      <td>-0.808554</td>\n",
       "      <td>-0.770430</td>\n",
       "      <td>0.341119</td>\n",
       "      <td>0.007106</td>\n",
       "      <td>-0.935613</td>\n",
       "      <td>-0.893809</td>\n",
       "      <td>-0.927965</td>\n",
       "      <td>1.000000</td>\n",
       "      <td>-0.906394</td>\n",
       "    </tr>\n",
       "    <tr>\n",
       "      <th>CO2EMISSIONS</th>\n",
       "      <td>-0.186504</td>\n",
       "      <td>0.388468</td>\n",
       "      <td>0.874154</td>\n",
       "      <td>0.849685</td>\n",
       "      <td>-0.299393</td>\n",
       "      <td>0.075167</td>\n",
       "      <td>0.898039</td>\n",
       "      <td>0.861748</td>\n",
       "      <td>0.892129</td>\n",
       "      <td>-0.906394</td>\n",
       "      <td>1.000000</td>\n",
       "    </tr>\n",
       "  </tbody>\n",
       "</table>\n",
       "</div>"
      ],
      "text/plain": [
       "                              MAKE  VEHICLECLASS  ENGINESIZE  CYLINDERS  \\\n",
       "MAKE                      1.000000      0.005853   -0.166416  -0.203427   \n",
       "VEHICLECLASS              0.005853      1.000000    0.240529   0.208528   \n",
       "ENGINESIZE               -0.166416      0.240529    1.000000   0.934011   \n",
       "CYLINDERS                -0.203427      0.208528    0.934011   1.000000   \n",
       "TRANSMISSION              0.193264     -0.172934   -0.272427  -0.246456   \n",
       "FUELTYPE                  0.015051     -0.083893    0.060869   0.127959   \n",
       "FUELCONSUMPTION_CITY     -0.246247      0.354363    0.832225   0.796473   \n",
       "FUELCONSUMPTION_HWY      -0.174665      0.430074    0.778746   0.724594   \n",
       "FUELCONSUMPTION_COMB     -0.222273      0.384678    0.819482   0.776788   \n",
       "FUELCONSUMPTION_COMB_MPG  0.226347     -0.354073   -0.808554  -0.770430   \n",
       "CO2EMISSIONS             -0.186504      0.388468    0.874154   0.849685   \n",
       "\n",
       "                          TRANSMISSION  FUELTYPE  FUELCONSUMPTION_CITY  \\\n",
       "MAKE                          0.193264  0.015051             -0.246247   \n",
       "VEHICLECLASS                 -0.172934 -0.083893              0.354363   \n",
       "ENGINESIZE                   -0.272427  0.060869              0.832225   \n",
       "CYLINDERS                    -0.246456  0.127959              0.796473   \n",
       "TRANSMISSION                  1.000000  0.214650             -0.350241   \n",
       "FUELTYPE                      0.214650  1.000000             -0.128841   \n",
       "FUELCONSUMPTION_CITY         -0.350241 -0.128841              1.000000   \n",
       "FUELCONSUMPTION_HWY          -0.348174 -0.178439              0.965718   \n",
       "FUELCONSUMPTION_COMB         -0.352596 -0.148167              0.995542   \n",
       "FUELCONSUMPTION_COMB_MPG      0.341119  0.007106             -0.935613   \n",
       "CO2EMISSIONS                 -0.299393  0.075167              0.898039   \n",
       "\n",
       "                          FUELCONSUMPTION_HWY  FUELCONSUMPTION_COMB  \\\n",
       "MAKE                                -0.174665             -0.222273   \n",
       "VEHICLECLASS                         0.430074              0.384678   \n",
       "ENGINESIZE                           0.778746              0.819482   \n",
       "CYLINDERS                            0.724594              0.776788   \n",
       "TRANSMISSION                        -0.348174             -0.352596   \n",
       "FUELTYPE                            -0.178439             -0.148167   \n",
       "FUELCONSUMPTION_CITY                 0.965718              0.995542   \n",
       "FUELCONSUMPTION_HWY                  1.000000              0.985804   \n",
       "FUELCONSUMPTION_COMB                 0.985804              1.000000   \n",
       "FUELCONSUMPTION_COMB_MPG            -0.893809             -0.927965   \n",
       "CO2EMISSIONS                         0.861748              0.892129   \n",
       "\n",
       "                          FUELCONSUMPTION_COMB_MPG  CO2EMISSIONS  \n",
       "MAKE                                      0.226347     -0.186504  \n",
       "VEHICLECLASS                             -0.354073      0.388468  \n",
       "ENGINESIZE                               -0.808554      0.874154  \n",
       "CYLINDERS                                -0.770430      0.849685  \n",
       "TRANSMISSION                              0.341119     -0.299393  \n",
       "FUELTYPE                                  0.007106      0.075167  \n",
       "FUELCONSUMPTION_CITY                     -0.935613      0.898039  \n",
       "FUELCONSUMPTION_HWY                      -0.893809      0.861748  \n",
       "FUELCONSUMPTION_COMB                     -0.927965      0.892129  \n",
       "FUELCONSUMPTION_COMB_MPG                  1.000000     -0.906394  \n",
       "CO2EMISSIONS                             -0.906394      1.000000  "
      ]
     },
     "execution_count": 16,
     "metadata": {},
     "output_type": "execute_result"
    }
   ],
   "source": [
    "(df.corr())"
   ]
  },
  {
   "cell_type": "code",
   "execution_count": 17,
   "id": "1188ea04-5bf5-4726-a35e-bb10028e6663",
   "metadata": {},
   "outputs": [
    {
     "data": {
      "text/plain": [
       "<Axes: >"
      ]
     },
     "execution_count": 17,
     "metadata": {},
     "output_type": "execute_result"
    },
    {
     "data": {
      "image/png": "[encoded data removed]",
      "text/plain": [
       "<Figure size 640x480 with 2 Axes>"
      ]
     },
     "metadata": {},
     "output_type": "display_data"
    }
   ],
   "source": [
    "sns.heatmap(df.corr())"
   ]
  },
  {
   "cell_type": "code",
   "execution_count": 18,
   "id": "94c3bbfb-9b57-4d1c-b60e-7baaf8a25faf",
   "metadata": {},
   "outputs": [
    {
     "data": {
      "text/html": [
       "<div>\n",
       "<style scoped>\n",
       "    .dataframe tbody tr th:only-of-type {\n",
       "        vertical-align: middle;\n",
       "    }\n",
       "\n",
       "    .dataframe tbody tr th {\n",
       "        vertical-align: top;\n",
       "    }\n",
       "\n",
       "    .dataframe thead th {\n",
       "        text-align: right;\n",
       "    }\n",
       "</style>\n",
       "<table border=\"1\" class=\"dataframe\">\n",
       "  <thead>\n",
       "    <tr style=\"text-align: right;\">\n",
       "      <th></th>\n",
       "      <th>MAKE</th>\n",
       "      <th>VEHICLECLASS</th>\n",
       "      <th>ENGINESIZE</th>\n",
       "      <th>CYLINDERS</th>\n",
       "      <th>TRANSMISSION</th>\n",
       "      <th>FUELTYPE</th>\n",
       "      <th>FUELCONSUMPTION_CITY</th>\n",
       "      <th>FUELCONSUMPTION_HWY</th>\n",
       "      <th>FUELCONSUMPTION_COMB</th>\n",
       "      <th>FUELCONSUMPTION_COMB_MPG</th>\n",
       "      <th>CO2EMISSIONS</th>\n",
       "    </tr>\n",
       "  </thead>\n",
       "  <tbody>\n",
       "    <tr>\n",
       "      <th>MAKE</th>\n",
       "      <td>1.000000</td>\n",
       "      <td>0.005853</td>\n",
       "      <td>-0.166416</td>\n",
       "      <td>-0.203427</td>\n",
       "      <td>0.193264</td>\n",
       "      <td>0.015051</td>\n",
       "      <td>-0.246247</td>\n",
       "      <td>-0.174665</td>\n",
       "      <td>-0.222273</td>\n",
       "      <td>0.226347</td>\n",
       "      <td>-0.186504</td>\n",
       "    </tr>\n",
       "    <tr>\n",
       "      <th>VEHICLECLASS</th>\n",
       "      <td>0.005853</td>\n",
       "      <td>1.000000</td>\n",
       "      <td>0.240529</td>\n",
       "      <td>0.208528</td>\n",
       "      <td>-0.172934</td>\n",
       "      <td>-0.083893</td>\n",
       "      <td>0.354363</td>\n",
       "      <td>0.430074</td>\n",
       "      <td>0.384678</td>\n",
       "      <td>-0.354073</td>\n",
       "      <td>0.388468</td>\n",
       "    </tr>\n",
       "    <tr>\n",
       "      <th>ENGINESIZE</th>\n",
       "      <td>-0.166416</td>\n",
       "      <td>0.240529</td>\n",
       "      <td>1.000000</td>\n",
       "      <td>0.934011</td>\n",
       "      <td>-0.272427</td>\n",
       "      <td>0.060869</td>\n",
       "      <td>0.832225</td>\n",
       "      <td>0.778746</td>\n",
       "      <td>0.819482</td>\n",
       "      <td>-0.808554</td>\n",
       "      <td>0.874154</td>\n",
       "    </tr>\n",
       "    <tr>\n",
       "      <th>CYLINDERS</th>\n",
       "      <td>-0.203427</td>\n",
       "      <td>0.208528</td>\n",
       "      <td>0.934011</td>\n",
       "      <td>1.000000</td>\n",
       "      <td>-0.246456</td>\n",
       "      <td>0.127959</td>\n",
       "      <td>0.796473</td>\n",
       "      <td>0.724594</td>\n",
       "      <td>0.776788</td>\n",
       "      <td>-0.770430</td>\n",
       "      <td>0.849685</td>\n",
       "    </tr>\n",
       "    <tr>\n",
       "      <th>TRANSMISSION</th>\n",
       "      <td>0.193264</td>\n",
       "      <td>-0.172934</td>\n",
       "      <td>-0.272427</td>\n",
       "      <td>-0.246456</td>\n",
       "      <td>1.000000</td>\n",
       "      <td>0.214650</td>\n",
       "      <td>-0.350241</td>\n",
       "      <td>-0.348174</td>\n",
       "      <td>-0.352596</td>\n",
       "      <td>0.341119</td>\n",
       "      <td>-0.299393</td>\n",
       "    </tr>\n",
       "    <tr>\n",
       "      <th>FUELTYPE</th>\n",
       "      <td>0.015051</td>\n",
       "      <td>-0.083893</td>\n",
       "      <td>0.060869</td>\n",
       "      <td>0.127959</td>\n",
       "      <td>0.214650</td>\n",
       "      <td>1.000000</td>\n",
       "      <td>-0.128841</td>\n",
       "      <td>-0.178439</td>\n",
       "      <td>-0.148167</td>\n",
       "      <td>0.007106</td>\n",
       "      <td>0.075167</td>\n",
       "    </tr>\n",
       "    <tr>\n",
       "      <th>FUELCONSUMPTION_CITY</th>\n",
       "      <td>-0.246247</td>\n",
       "      <td>0.354363</td>\n",
       "      <td>0.832225</td>\n",
       "      <td>0.796473</td>\n",
       "      <td>-0.350241</td>\n",
       "      <td>-0.128841</td>\n",
       "      <td>1.000000</td>\n",
       "      <td>0.965718</td>\n",
       "      <td>0.995542</td>\n",
       "      <td>-0.935613</td>\n",
       "      <td>0.898039</td>\n",
       "    </tr>\n",
       "    <tr>\n",
       "      <th>FUELCONSUMPTION_HWY</th>\n",
       "      <td>-0.174665</td>\n",
       "      <td>0.430074</td>\n",
       "      <td>0.778746</td>\n",
       "      <td>0.724594</td>\n",
       "      <td>-0.348174</td>\n",
       "      <td>-0.178439</td>\n",
       "      <td>0.965718</td>\n",
       "      <td>1.000000</td>\n",
       "      <td>0.985804</td>\n",
       "      <td>-0.893809</td>\n",
       "      <td>0.861748</td>\n",
       "    </tr>\n",
       "    <tr>\n",
       "      <th>FUELCONSUMPTION_COMB</th>\n",
       "      <td>-0.222273</td>\n",
       "      <td>0.384678</td>\n",
       "      <td>0.819482</td>\n",
       "      <td>0.776788</td>\n",
       "      <td>-0.352596</td>\n",
       "      <td>-0.148167</td>\n",
       "      <td>0.995542</td>\n",
       "      <td>0.985804</td>\n",
       "      <td>1.000000</td>\n",
       "      <td>-0.927965</td>\n",
       "      <td>0.892129</td>\n",
       "    </tr>\n",
       "    <tr>\n",
       "      <th>FUELCONSUMPTION_COMB_MPG</th>\n",
       "      <td>0.226347</td>\n",
       "      <td>-0.354073</td>\n",
       "      <td>-0.808554</td>\n",
       "      <td>-0.770430</td>\n",
       "      <td>0.341119</td>\n",
       "      <td>0.007106</td>\n",
       "      <td>-0.935613</td>\n",
       "      <td>-0.893809</td>\n",
       "      <td>-0.927965</td>\n",
       "      <td>1.000000</td>\n",
       "      <td>-0.906394</td>\n",
       "    </tr>\n",
       "    <tr>\n",
       "      <th>CO2EMISSIONS</th>\n",
       "      <td>-0.186504</td>\n",
       "      <td>0.388468</td>\n",
       "      <td>0.874154</td>\n",
       "      <td>0.849685</td>\n",
       "      <td>-0.299393</td>\n",
       "      <td>0.075167</td>\n",
       "      <td>0.898039</td>\n",
       "      <td>0.861748</td>\n",
       "      <td>0.892129</td>\n",
       "      <td>-0.906394</td>\n",
       "      <td>1.000000</td>\n",
       "    </tr>\n",
       "  </tbody>\n",
       "</table>\n",
       "</div>"
      ],
      "text/plain": [
       "                              MAKE  VEHICLECLASS  ENGINESIZE  CYLINDERS  \\\n",
       "MAKE                      1.000000      0.005853   -0.166416  -0.203427   \n",
       "VEHICLECLASS              0.005853      1.000000    0.240529   0.208528   \n",
       "ENGINESIZE               -0.166416      0.240529    1.000000   0.934011   \n",
       "CYLINDERS                -0.203427      0.208528    0.934011   1.000000   \n",
       "TRANSMISSION              0.193264     -0.172934   -0.272427  -0.246456   \n",
       "FUELTYPE                  0.015051     -0.083893    0.060869   0.127959   \n",
       "FUELCONSUMPTION_CITY     -0.246247      0.354363    0.832225   0.796473   \n",
       "FUELCONSUMPTION_HWY      -0.174665      0.430074    0.778746   0.724594   \n",
       "FUELCONSUMPTION_COMB     -0.222273      0.384678    0.819482   0.776788   \n",
       "FUELCONSUMPTION_COMB_MPG  0.226347     -0.354073   -0.808554  -0.770430   \n",
       "CO2EMISSIONS             -0.186504      0.388468    0.874154   0.849685   \n",
       "\n",
       "                          TRANSMISSION  FUELTYPE  FUELCONSUMPTION_CITY  \\\n",
       "MAKE                          0.193264  0.015051             -0.246247   \n",
       "VEHICLECLASS                 -0.172934 -0.083893              0.354363   \n",
       "ENGINESIZE                   -0.272427  0.060869              0.832225   \n",
       "CYLINDERS                    -0.246456  0.127959              0.796473   \n",
       "TRANSMISSION                  1.000000  0.214650             -0.350241   \n",
       "FUELTYPE                      0.214650  1.000000             -0.128841   \n",
       "FUELCONSUMPTION_CITY         -0.350241 -0.128841              1.000000   \n",
       "FUELCONSUMPTION_HWY          -0.348174 -0.178439              0.965718   \n",
       "FUELCONSUMPTION_COMB         -0.352596 -0.148167              0.995542   \n",
       "FUELCONSUMPTION_COMB_MPG      0.341119  0.007106             -0.935613   \n",
       "CO2EMISSIONS                 -0.299393  0.075167              0.898039   \n",
       "\n",
       "                          FUELCONSUMPTION_HWY  FUELCONSUMPTION_COMB  \\\n",
       "MAKE                                -0.174665             -0.222273   \n",
       "VEHICLECLASS                         0.430074              0.384678   \n",
       "ENGINESIZE                           0.778746              0.819482   \n",
       "CYLINDERS                            0.724594              0.776788   \n",
       "TRANSMISSION                        -0.348174             -0.352596   \n",
       "FUELTYPE                            -0.178439             -0.148167   \n",
       "FUELCONSUMPTION_CITY                 0.965718              0.995542   \n",
       "FUELCONSUMPTION_HWY                  1.000000              0.985804   \n",
       "FUELCONSUMPTION_COMB                 0.985804              1.000000   \n",
       "FUELCONSUMPTION_COMB_MPG            -0.893809             -0.927965   \n",
       "CO2EMISSIONS                         0.861748              0.892129   \n",
       "\n",
       "                          FUELCONSUMPTION_COMB_MPG  CO2EMISSIONS  \n",
       "MAKE                                      0.226347     -0.186504  \n",
       "VEHICLECLASS                             -0.354073      0.388468  \n",
       "ENGINESIZE                               -0.808554      0.874154  \n",
       "CYLINDERS                                -0.770430      0.849685  \n",
       "TRANSMISSION                              0.341119     -0.299393  \n",
       "FUELTYPE                                  0.007106      0.075167  \n",
       "FUELCONSUMPTION_CITY                     -0.935613      0.898039  \n",
       "FUELCONSUMPTION_HWY                      -0.893809      0.861748  \n",
       "FUELCONSUMPTION_COMB                     -0.927965      0.892129  \n",
       "FUELCONSUMPTION_COMB_MPG                  1.000000     -0.906394  \n",
       "CO2EMISSIONS                             -0.906394      1.000000  "
      ]
     },
     "execution_count": 18,
     "metadata": {},
     "output_type": "execute_result"
    }
   ],
   "source": [
    "df.corr()"
   ]
  },
  {
   "cell_type": "markdown",
   "id": "ae3988f1-e797-47a9-8565-397463ebef2c",
   "metadata": {},
   "source": [
    "CO2EMISSIONS is highly affected by EngineSize,Cylinders,Fuel consumption in the city ,Fuelconsumption in the highway,Fuel consumtion combined "
   ]
  },
  {
   "cell_type": "code",
   "execution_count": 19,
   "id": "ea38c072-52c6-4464-8390-a4ea4211616a",
   "metadata": {},
   "outputs": [],
   "source": [
    "X=df[['ENGINESIZE','CYLINDERS','FUELCONSUMPTION_COMB']]\n",
    "y=df.iloc[:,-1:]"
   ]
  },
  {
   "cell_type": "code",
   "execution_count": 20,
   "id": "1d616a60-2cff-4b08-9268-ed65f0ef3554",
   "metadata": {},
   "outputs": [],
   "source": [
    "from sklearn.model_selection import train_test_split\n",
    "from sklearn.linear_model import LinearRegression\n",
    "from sklearn.pipeline import Pipeline\n",
    "import warnings\n",
    "warnings.filterwarnings(\"ignore\")"
   ]
  },
  {
   "cell_type": "code",
   "execution_count": 21,
   "id": "4b955188-1927-4ec1-8c05-b46e74fcd1d2",
   "metadata": {},
   "outputs": [],
   "source": [
    "lr=LinearRegression()"
   ]
  },
  {
   "cell_type": "code",
   "execution_count": 22,
   "id": "8c2ff02f-9a60-4b7f-a102-b02626fa76b9",
   "metadata": {},
   "outputs": [],
   "source": [
    "X_train,X_test,y_train,y_test=train_test_split(X,y,test_size=0.2,random_state=42)"
   ]
  },
  {
   "cell_type": "code",
   "execution_count": 23,
   "id": "dc4de4d4-9d4c-46b5-8be7-eab9a64a90b5",
   "metadata": {},
   "outputs": [
    {
     "data": {
      "text/html": [
       "<style>#sk-container-id-1 {color: black;background-color: white;}#sk-container-id-1 pre{padding: 0;}#sk-container-id-1 div.sk-toggleable {background-color: white;}#sk-container-id-1 label.sk-toggleable__label {cursor: pointer;display: block;width: 100%;margin-bottom: 0;padding: 0.3em;box-sizing: border-box;text-align: center;}#sk-container-id-1 label.sk-toggleable__label-arrow:before {content: \"▸\";float: left;margin-right: 0.25em;color: #696969;}#sk-container-id-1 label.sk-toggleable__label-arrow:hover:before {color: black;}#sk-container-id-1 div.sk-estimator:hover label.sk-toggleable__label-arrow:before {color: black;}#sk-container-id-1 div.sk-toggleable__content {max-height: 0;max-width: 0;overflow: hidden;text-align: left;background-color: #f0f8ff;}#sk-container-id-1 div.sk-toggleable__content pre {margin: 0.2em;color: black;border-radius: 0.25em;background-color: #f0f8ff;}#sk-container-id-1 input.sk-toggleable__control:checked~div.sk-toggleable__content {max-height: 200px;max-width: 100%;overflow: auto;}#sk-container-id-1 input.sk-toggleable__control:checked~label.sk-toggleable__label-arrow:before {content: \"▾\";}#sk-container-id-1 div.sk-estimator input.sk-toggleable__control:checked~label.sk-toggleable__label {background-color: #d4ebff;}#sk-container-id-1 div.sk-label input.sk-toggleable__control:checked~label.sk-toggleable__label {background-color: #d4ebff;}#sk-container-id-1 input.sk-hidden--visually {border: 0;clip: rect(1px 1px 1px 1px);clip: rect(1px, 1px, 1px, 1px);height: 1px;margin: -1px;overflow: hidden;padding: 0;position: absolute;width: 1px;}#sk-container-id-1 div.sk-estimator {font-family: monospace;background-color: #f0f8ff;border: 1px dotted black;border-radius: 0.25em;box-sizing: border-box;margin-bottom: 0.5em;}#sk-container-id-1 div.sk-estimator:hover {background-color: #d4ebff;}#sk-container-id-1 div.sk-parallel-item::after {content: \"\";width: 100%;border-bottom: 1px solid gray;flex-grow: 1;}#sk-container-id-1 div.sk-label:hover label.sk-toggleable__label {background-color: #d4ebff;}#sk-container-id-1 div.sk-serial::before {content: \"\";position: absolute;border-left: 1px solid gray;box-sizing: border-box;top: 0;bottom: 0;left: 50%;z-index: 0;}#sk-container-id-1 div.sk-serial {display: flex;flex-direction: column;align-items: center;background-color: white;padding-right: 0.2em;padding-left: 0.2em;position: relative;}#sk-container-id-1 div.sk-item {position: relative;z-index: 1;}#sk-container-id-1 div.sk-parallel {display: flex;align-items: stretch;justify-content: center;background-color: white;position: relative;}#sk-container-id-1 div.sk-item::before, #sk-container-id-1 div.sk-parallel-item::before {content: \"\";position: absolute;border-left: 1px solid gray;box-sizing: border-box;top: 0;bottom: 0;left: 50%;z-index: -1;}#sk-container-id-1 div.sk-parallel-item {display: flex;flex-direction: column;z-index: 1;position: relative;background-color: white;}#sk-container-id-1 div.sk-parallel-item:first-child::after {align-self: flex-end;width: 50%;}#sk-container-id-1 div.sk-parallel-item:last-child::after {align-self: flex-start;width: 50%;}#sk-container-id-1 div.sk-parallel-item:only-child::after {width: 0;}#sk-container-id-1 div.sk-dashed-wrapped {border: 1px dashed gray;margin: 0 0.4em 0.5em 0.4em;box-sizing: border-box;padding-bottom: 0.4em;background-color: white;}#sk-container-id-1 div.sk-label label {font-family: monospace;font-weight: bold;display: inline-block;line-height: 1.2em;}#sk-container-id-1 div.sk-label-container {text-align: center;}#sk-container-id-1 div.sk-container {/* jupyter's `normalize.less` sets `[hidden] { display: none; }` but bootstrap.min.css set `[hidden] { display: none !important; }` so we also need the `!important` here to be able to override the default hidden behavior on the sphinx rendered scikit-learn.org. See: https://github.com/scikit-learn/scikit-learn/issues/21755 */display: inline-block !important;position: relative;}#sk-container-id-1 div.sk-text-repr-fallback {display: none;}</style><div id=\"sk-container-id-1\" class=\"sk-top-container\"><div class=\"sk-text-repr-fallback\"><pre>LinearRegression()</pre><b>In a Jupyter environment, please rerun this cell to show the HTML representation or trust the notebook. <br />On GitHub, the HTML representation is unable to render, please try loading this page with nbviewer.org.</b></div><div class=\"sk-container\" hidden><div class=\"sk-item\"><div class=\"sk-estimator sk-toggleable\"><input class=\"sk-toggleable__control sk-hidden--visually\" id=\"sk-estimator-id-1\" type=\"checkbox\" checked><label for=\"sk-estimator-id-1\" class=\"sk-toggleable__label sk-toggleable__label-arrow\">LinearRegression</label><div class=\"sk-toggleable__content\"><pre>LinearRegression()</pre></div></div></div></div></div>"
      ],
      "text/plain": [
       "LinearRegression()"
      ]
     },
     "execution_count": 23,
     "metadata": {},
     "output_type": "execute_result"
    }
   ],
   "source": [
    "lr.fit(X_train,y_train)"
   ]
  },
  {
   "cell_type": "code",
   "execution_count": 24,
   "id": "93602c64-06ab-4a65-a6ca-531120e9d5d0",
   "metadata": {},
   "outputs": [],
   "source": [
    "y_pred=lr.predict(X_test)\n",
    "from sklearn.metrics import mean_squared_error,r2_score\n"
   ]
  },
  {
   "cell_type": "code",
   "execution_count": 25,
   "id": "a79e5ba2-44b5-4e24-9ef6-9d6a43a94201",
   "metadata": {},
   "outputs": [
    {
     "name": "stdout",
     "output_type": "stream",
     "text": [
      "r^2 : 0.8759705206914069\n",
      "RMSE :  22.646305151499448\n"
     ]
    }
   ],
   "source": [
    "print(f\"r^2 : {r2_score(y_test,y_pred)}\")\n",
    "print(\"RMSE : \" ,mean_squared_error(y_test,y_pred, squared=False))"
   ]
  },
  {
   "cell_type": "code",
   "execution_count": 26,
   "id": "fc9d6115-e2ff-4302-939c-46392aafc37f",
   "metadata": {},
   "outputs": [
    {
     "data": {
      "text/plain": [
       "11.209439495558222"
      ]
     },
     "execution_count": 26,
     "metadata": {},
     "output_type": "execute_result"
    }
   ],
   "source": [
    "slope1=lr.coef_[0][0]\n",
    "slope1"
   ]
  },
  {
   "cell_type": "code",
   "execution_count": 27,
   "id": "7fee5fd9-fd94-4ec4-b41d-60c80855a31d",
   "metadata": {},
   "outputs": [
    {
     "data": {
      "text/plain": [
       "7.15561380901835"
      ]
     },
     "execution_count": 27,
     "metadata": {},
     "output_type": "execute_result"
    }
   ],
   "source": [
    "slope2=lr.coef_[0][1]\n",
    "slope2"
   ]
  },
  {
   "cell_type": "code",
   "execution_count": 28,
   "id": "4ef13bcb-7eb8-48fe-915b-4f31576ade69",
   "metadata": {},
   "outputs": [
    {
     "data": {
      "text/plain": [
       "9.520811800573567"
      ]
     },
     "execution_count": 28,
     "metadata": {},
     "output_type": "execute_result"
    }
   ],
   "source": [
    "slope3=lr.coef_[0][2]\n",
    "slope3"
   ]
  },
  {
   "cell_type": "code",
   "execution_count": 29,
   "id": "368d86d1-4990-4b6c-9013-a672f7572c04",
   "metadata": {},
   "outputs": [],
   "source": [
    "def get_regression_predictions(my_engine_size,cylinders,estimated_fuel_consumption,intercept,slope1,slope2,slope3):\n",
    "    predicted_values=(my_engine_size*slope1+cylinders*slope2+estimated_fuel_consumption*slope3 + intercept)\n",
    "    return predicted_values"
   ]
  },
  {
   "cell_type": "code",
   "execution_count": 30,
   "id": "d5035122-30b1-48dd-b01b-e9e2e43c8d84",
   "metadata": {},
   "outputs": [
    {
     "name": "stdin",
     "output_type": "stream",
     "text": [
      "my_engine_size:  6.1\n",
      "No of cylinders:  6\n",
      "Estimated fuel consumption:  6.2\n"
     ]
    },
    {
     "name": "stdout",
     "output_type": "stream",
     "text": [
      "Estimated Emission : [237.68868212]\n"
     ]
    }
   ],
   "source": [
    "my_engine_size =float(input(\"my_engine_size: \"))\n",
    "cylinders=float(input(\"No of cylinders: \"))\n",
    "estimated_fuel_consumption=float(input(\"Estimated fuel consumption: \"))\n",
    "estimated_emission=get_regression_predictions(my_engine_size,cylinders,estimated_fuel_consumption,lr.intercept_,slope1,slope2,slope3)\n",
    "print(\"Estimated Emission :\",estimated_emission)"
   ]
  },
  {
   "cell_type": "code",
   "execution_count": null,
   "id": "5c5351bd-d085-43df-ac48-acdad9580a43",
   "metadata": {},
   "outputs": [],
   "source": []
  },
  {
   "cell_type": "code",
   "execution_count": null,
   "id": "4c0e14ed-96f5-4287-86d3-ad0027b6437c",
   "metadata": {},
   "outputs": [],
   "source": []
  },
  {
   "cell_type": "code",
   "execution_count": null,
   "id": "8d8de91b-90d2-438f-af74-d371b9149827",
   "metadata": {},
   "outputs": [],
   "source": []
  },
  {
   "cell_type": "code",
   "execution_count": null,
   "id": "2ccd6480-227a-43e4-ab8e-5cea6fa9f376",
   "metadata": {},
   "outputs": [],
   "source": []
  },
  {
   "cell_type": "code",
   "execution_count": null,
   "id": "5aa3cf4b-804f-47aa-8bc3-9821575b3490",
   "metadata": {},
   "outputs": [],
   "source": []
  }
 ],
 "metadata": {
  "kernelspec": {
   "display_name": "Python 3 (ipykernel)",
   "language": "python",
   "name": "python3"
  },
  "language_info": {
   "codemirror_mode": {
    "name": "ipython",
    "version": 3
   },
   "file_extension": ".py",
   "mimetype": "text/x-python",
   "name": "python",
   "nbconvert_exporter": "python",
   "pygments_lexer": "ipython3",
   "version": "3.11.7"
  }
 },
 "nbformat": 4,
 "nbformat_minor": 5
}
